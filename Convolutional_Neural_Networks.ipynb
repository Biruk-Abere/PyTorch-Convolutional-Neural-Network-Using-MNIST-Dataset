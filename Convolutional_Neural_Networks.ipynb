{
  "nbformat": 4,
  "nbformat_minor": 0,
  "metadata": {
    "colab": {
      "name": "Convolutional Neural Networks.ipynb",
      "provenance": []
    },
    "kernelspec": {
      "name": "python3",
      "display_name": "Python 3"
    },
    "language_info": {
      "name": "python"
    },
    "accelerator": "GPU",
    "gpuClass": "standard",
    "widgets": {
      "application/vnd.jupyter.widget-state+json": {
        "ffed15233b904d6e995dcce04d520fbf": {
          "model_module": "@jupyter-widgets/controls",
          "model_name": "HBoxModel",
          "model_module_version": "1.5.0",
          "state": {
            "_dom_classes": [],
            "_model_module": "@jupyter-widgets/controls",
            "_model_module_version": "1.5.0",
            "_model_name": "HBoxModel",
            "_view_count": null,
            "_view_module": "@jupyter-widgets/controls",
            "_view_module_version": "1.5.0",
            "_view_name": "HBoxView",
            "box_style": "",
            "children": [
              "IPY_MODEL_47ac0daddff84b81ba891c1ef8c8b146",
              "IPY_MODEL_9a4cf27492df43cdadba02347af723f4",
              "IPY_MODEL_877d02cf28504777ad974f1edb9b5188"
            ],
            "layout": "IPY_MODEL_6b063f372b3645ad973dfc5dddbf4333"
          }
        },
        "47ac0daddff84b81ba891c1ef8c8b146": {
          "model_module": "@jupyter-widgets/controls",
          "model_name": "HTMLModel",
          "model_module_version": "1.5.0",
          "state": {
            "_dom_classes": [],
            "_model_module": "@jupyter-widgets/controls",
            "_model_module_version": "1.5.0",
            "_model_name": "HTMLModel",
            "_view_count": null,
            "_view_module": "@jupyter-widgets/controls",
            "_view_module_version": "1.5.0",
            "_view_name": "HTMLView",
            "description": "",
            "description_tooltip": null,
            "layout": "IPY_MODEL_34a2861e8a76467a894c8b7cdcc8b793",
            "placeholder": "​",
            "style": "IPY_MODEL_ff2531fa93f74b4a9bc6e6875a65d22c",
            "value": ""
          }
        },
        "9a4cf27492df43cdadba02347af723f4": {
          "model_module": "@jupyter-widgets/controls",
          "model_name": "FloatProgressModel",
          "model_module_version": "1.5.0",
          "state": {
            "_dom_classes": [],
            "_model_module": "@jupyter-widgets/controls",
            "_model_module_version": "1.5.0",
            "_model_name": "FloatProgressModel",
            "_view_count": null,
            "_view_module": "@jupyter-widgets/controls",
            "_view_module_version": "1.5.0",
            "_view_name": "ProgressView",
            "bar_style": "success",
            "description": "",
            "description_tooltip": null,
            "layout": "IPY_MODEL_c4cc13f2976b43f08423b24a7cf373b1",
            "max": 9912422,
            "min": 0,
            "orientation": "horizontal",
            "style": "IPY_MODEL_f1191cd3d3834fda8774c591a01e77fd",
            "value": 9912422
          }
        },
        "877d02cf28504777ad974f1edb9b5188": {
          "model_module": "@jupyter-widgets/controls",
          "model_name": "HTMLModel",
          "model_module_version": "1.5.0",
          "state": {
            "_dom_classes": [],
            "_model_module": "@jupyter-widgets/controls",
            "_model_module_version": "1.5.0",
            "_model_name": "HTMLModel",
            "_view_count": null,
            "_view_module": "@jupyter-widgets/controls",
            "_view_module_version": "1.5.0",
            "_view_name": "HTMLView",
            "description": "",
            "description_tooltip": null,
            "layout": "IPY_MODEL_a4900fe73f094877b7f9f74477f4fc52",
            "placeholder": "​",
            "style": "IPY_MODEL_480cd9d319e34900ac37fb605296c2df",
            "value": " 9913344/? [00:00&lt;00:00, 69119077.16it/s]"
          }
        },
        "6b063f372b3645ad973dfc5dddbf4333": {
          "model_module": "@jupyter-widgets/base",
          "model_name": "LayoutModel",
          "model_module_version": "1.2.0",
          "state": {
            "_model_module": "@jupyter-widgets/base",
            "_model_module_version": "1.2.0",
            "_model_name": "LayoutModel",
            "_view_count": null,
            "_view_module": "@jupyter-widgets/base",
            "_view_module_version": "1.2.0",
            "_view_name": "LayoutView",
            "align_content": null,
            "align_items": null,
            "align_self": null,
            "border": null,
            "bottom": null,
            "display": null,
            "flex": null,
            "flex_flow": null,
            "grid_area": null,
            "grid_auto_columns": null,
            "grid_auto_flow": null,
            "grid_auto_rows": null,
            "grid_column": null,
            "grid_gap": null,
            "grid_row": null,
            "grid_template_areas": null,
            "grid_template_columns": null,
            "grid_template_rows": null,
            "height": null,
            "justify_content": null,
            "justify_items": null,
            "left": null,
            "margin": null,
            "max_height": null,
            "max_width": null,
            "min_height": null,
            "min_width": null,
            "object_fit": null,
            "object_position": null,
            "order": null,
            "overflow": null,
            "overflow_x": null,
            "overflow_y": null,
            "padding": null,
            "right": null,
            "top": null,
            "visibility": null,
            "width": null
          }
        },
        "34a2861e8a76467a894c8b7cdcc8b793": {
          "model_module": "@jupyter-widgets/base",
          "model_name": "LayoutModel",
          "model_module_version": "1.2.0",
          "state": {
            "_model_module": "@jupyter-widgets/base",
            "_model_module_version": "1.2.0",
            "_model_name": "LayoutModel",
            "_view_count": null,
            "_view_module": "@jupyter-widgets/base",
            "_view_module_version": "1.2.0",
            "_view_name": "LayoutView",
            "align_content": null,
            "align_items": null,
            "align_self": null,
            "border": null,
            "bottom": null,
            "display": null,
            "flex": null,
            "flex_flow": null,
            "grid_area": null,
            "grid_auto_columns": null,
            "grid_auto_flow": null,
            "grid_auto_rows": null,
            "grid_column": null,
            "grid_gap": null,
            "grid_row": null,
            "grid_template_areas": null,
            "grid_template_columns": null,
            "grid_template_rows": null,
            "height": null,
            "justify_content": null,
            "justify_items": null,
            "left": null,
            "margin": null,
            "max_height": null,
            "max_width": null,
            "min_height": null,
            "min_width": null,
            "object_fit": null,
            "object_position": null,
            "order": null,
            "overflow": null,
            "overflow_x": null,
            "overflow_y": null,
            "padding": null,
            "right": null,
            "top": null,
            "visibility": null,
            "width": null
          }
        },
        "ff2531fa93f74b4a9bc6e6875a65d22c": {
          "model_module": "@jupyter-widgets/controls",
          "model_name": "DescriptionStyleModel",
          "model_module_version": "1.5.0",
          "state": {
            "_model_module": "@jupyter-widgets/controls",
            "_model_module_version": "1.5.0",
            "_model_name": "DescriptionStyleModel",
            "_view_count": null,
            "_view_module": "@jupyter-widgets/base",
            "_view_module_version": "1.2.0",
            "_view_name": "StyleView",
            "description_width": ""
          }
        },
        "c4cc13f2976b43f08423b24a7cf373b1": {
          "model_module": "@jupyter-widgets/base",
          "model_name": "LayoutModel",
          "model_module_version": "1.2.0",
          "state": {
            "_model_module": "@jupyter-widgets/base",
            "_model_module_version": "1.2.0",
            "_model_name": "LayoutModel",
            "_view_count": null,
            "_view_module": "@jupyter-widgets/base",
            "_view_module_version": "1.2.0",
            "_view_name": "LayoutView",
            "align_content": null,
            "align_items": null,
            "align_self": null,
            "border": null,
            "bottom": null,
            "display": null,
            "flex": null,
            "flex_flow": null,
            "grid_area": null,
            "grid_auto_columns": null,
            "grid_auto_flow": null,
            "grid_auto_rows": null,
            "grid_column": null,
            "grid_gap": null,
            "grid_row": null,
            "grid_template_areas": null,
            "grid_template_columns": null,
            "grid_template_rows": null,
            "height": null,
            "justify_content": null,
            "justify_items": null,
            "left": null,
            "margin": null,
            "max_height": null,
            "max_width": null,
            "min_height": null,
            "min_width": null,
            "object_fit": null,
            "object_position": null,
            "order": null,
            "overflow": null,
            "overflow_x": null,
            "overflow_y": null,
            "padding": null,
            "right": null,
            "top": null,
            "visibility": null,
            "width": null
          }
        },
        "f1191cd3d3834fda8774c591a01e77fd": {
          "model_module": "@jupyter-widgets/controls",
          "model_name": "ProgressStyleModel",
          "model_module_version": "1.5.0",
          "state": {
            "_model_module": "@jupyter-widgets/controls",
            "_model_module_version": "1.5.0",
            "_model_name": "ProgressStyleModel",
            "_view_count": null,
            "_view_module": "@jupyter-widgets/base",
            "_view_module_version": "1.2.0",
            "_view_name": "StyleView",
            "bar_color": null,
            "description_width": ""
          }
        },
        "a4900fe73f094877b7f9f74477f4fc52": {
          "model_module": "@jupyter-widgets/base",
          "model_name": "LayoutModel",
          "model_module_version": "1.2.0",
          "state": {
            "_model_module": "@jupyter-widgets/base",
            "_model_module_version": "1.2.0",
            "_model_name": "LayoutModel",
            "_view_count": null,
            "_view_module": "@jupyter-widgets/base",
            "_view_module_version": "1.2.0",
            "_view_name": "LayoutView",
            "align_content": null,
            "align_items": null,
            "align_self": null,
            "border": null,
            "bottom": null,
            "display": null,
            "flex": null,
            "flex_flow": null,
            "grid_area": null,
            "grid_auto_columns": null,
            "grid_auto_flow": null,
            "grid_auto_rows": null,
            "grid_column": null,
            "grid_gap": null,
            "grid_row": null,
            "grid_template_areas": null,
            "grid_template_columns": null,
            "grid_template_rows": null,
            "height": null,
            "justify_content": null,
            "justify_items": null,
            "left": null,
            "margin": null,
            "max_height": null,
            "max_width": null,
            "min_height": null,
            "min_width": null,
            "object_fit": null,
            "object_position": null,
            "order": null,
            "overflow": null,
            "overflow_x": null,
            "overflow_y": null,
            "padding": null,
            "right": null,
            "top": null,
            "visibility": null,
            "width": null
          }
        },
        "480cd9d319e34900ac37fb605296c2df": {
          "model_module": "@jupyter-widgets/controls",
          "model_name": "DescriptionStyleModel",
          "model_module_version": "1.5.0",
          "state": {
            "_model_module": "@jupyter-widgets/controls",
            "_model_module_version": "1.5.0",
            "_model_name": "DescriptionStyleModel",
            "_view_count": null,
            "_view_module": "@jupyter-widgets/base",
            "_view_module_version": "1.2.0",
            "_view_name": "StyleView",
            "description_width": ""
          }
        },
        "9451ca7e2fa14acda186e3e5c475eb44": {
          "model_module": "@jupyter-widgets/controls",
          "model_name": "HBoxModel",
          "model_module_version": "1.5.0",
          "state": {
            "_dom_classes": [],
            "_model_module": "@jupyter-widgets/controls",
            "_model_module_version": "1.5.0",
            "_model_name": "HBoxModel",
            "_view_count": null,
            "_view_module": "@jupyter-widgets/controls",
            "_view_module_version": "1.5.0",
            "_view_name": "HBoxView",
            "box_style": "",
            "children": [
              "IPY_MODEL_dcc17f7be68d41ea9302a9e1e298c96c",
              "IPY_MODEL_ad927a05ebee404090b8102538f042f2",
              "IPY_MODEL_72b17b5c6c2545ccb00d333d9c8f4149"
            ],
            "layout": "IPY_MODEL_a2b49d628e274f00b4ea38e5524ebe0c"
          }
        },
        "dcc17f7be68d41ea9302a9e1e298c96c": {
          "model_module": "@jupyter-widgets/controls",
          "model_name": "HTMLModel",
          "model_module_version": "1.5.0",
          "state": {
            "_dom_classes": [],
            "_model_module": "@jupyter-widgets/controls",
            "_model_module_version": "1.5.0",
            "_model_name": "HTMLModel",
            "_view_count": null,
            "_view_module": "@jupyter-widgets/controls",
            "_view_module_version": "1.5.0",
            "_view_name": "HTMLView",
            "description": "",
            "description_tooltip": null,
            "layout": "IPY_MODEL_fda01eba2734423f83669566d38e07cc",
            "placeholder": "​",
            "style": "IPY_MODEL_b02625468ffa4ea983587838c606fa48",
            "value": ""
          }
        },
        "ad927a05ebee404090b8102538f042f2": {
          "model_module": "@jupyter-widgets/controls",
          "model_name": "FloatProgressModel",
          "model_module_version": "1.5.0",
          "state": {
            "_dom_classes": [],
            "_model_module": "@jupyter-widgets/controls",
            "_model_module_version": "1.5.0",
            "_model_name": "FloatProgressModel",
            "_view_count": null,
            "_view_module": "@jupyter-widgets/controls",
            "_view_module_version": "1.5.0",
            "_view_name": "ProgressView",
            "bar_style": "success",
            "description": "",
            "description_tooltip": null,
            "layout": "IPY_MODEL_ed580584f20747d78b1eac8a00e2884f",
            "max": 28881,
            "min": 0,
            "orientation": "horizontal",
            "style": "IPY_MODEL_720e6df44b764107a5a62a15e4ce5aac",
            "value": 28881
          }
        },
        "72b17b5c6c2545ccb00d333d9c8f4149": {
          "model_module": "@jupyter-widgets/controls",
          "model_name": "HTMLModel",
          "model_module_version": "1.5.0",
          "state": {
            "_dom_classes": [],
            "_model_module": "@jupyter-widgets/controls",
            "_model_module_version": "1.5.0",
            "_model_name": "HTMLModel",
            "_view_count": null,
            "_view_module": "@jupyter-widgets/controls",
            "_view_module_version": "1.5.0",
            "_view_name": "HTMLView",
            "description": "",
            "description_tooltip": null,
            "layout": "IPY_MODEL_448125f82ae04fd0a6081662b393565a",
            "placeholder": "​",
            "style": "IPY_MODEL_deb52e648e2d4ff3ab7a0ec0a151426f",
            "value": " 29696/? [00:00&lt;00:00, 1227181.87it/s]"
          }
        },
        "a2b49d628e274f00b4ea38e5524ebe0c": {
          "model_module": "@jupyter-widgets/base",
          "model_name": "LayoutModel",
          "model_module_version": "1.2.0",
          "state": {
            "_model_module": "@jupyter-widgets/base",
            "_model_module_version": "1.2.0",
            "_model_name": "LayoutModel",
            "_view_count": null,
            "_view_module": "@jupyter-widgets/base",
            "_view_module_version": "1.2.0",
            "_view_name": "LayoutView",
            "align_content": null,
            "align_items": null,
            "align_self": null,
            "border": null,
            "bottom": null,
            "display": null,
            "flex": null,
            "flex_flow": null,
            "grid_area": null,
            "grid_auto_columns": null,
            "grid_auto_flow": null,
            "grid_auto_rows": null,
            "grid_column": null,
            "grid_gap": null,
            "grid_row": null,
            "grid_template_areas": null,
            "grid_template_columns": null,
            "grid_template_rows": null,
            "height": null,
            "justify_content": null,
            "justify_items": null,
            "left": null,
            "margin": null,
            "max_height": null,
            "max_width": null,
            "min_height": null,
            "min_width": null,
            "object_fit": null,
            "object_position": null,
            "order": null,
            "overflow": null,
            "overflow_x": null,
            "overflow_y": null,
            "padding": null,
            "right": null,
            "top": null,
            "visibility": null,
            "width": null
          }
        },
        "fda01eba2734423f83669566d38e07cc": {
          "model_module": "@jupyter-widgets/base",
          "model_name": "LayoutModel",
          "model_module_version": "1.2.0",
          "state": {
            "_model_module": "@jupyter-widgets/base",
            "_model_module_version": "1.2.0",
            "_model_name": "LayoutModel",
            "_view_count": null,
            "_view_module": "@jupyter-widgets/base",
            "_view_module_version": "1.2.0",
            "_view_name": "LayoutView",
            "align_content": null,
            "align_items": null,
            "align_self": null,
            "border": null,
            "bottom": null,
            "display": null,
            "flex": null,
            "flex_flow": null,
            "grid_area": null,
            "grid_auto_columns": null,
            "grid_auto_flow": null,
            "grid_auto_rows": null,
            "grid_column": null,
            "grid_gap": null,
            "grid_row": null,
            "grid_template_areas": null,
            "grid_template_columns": null,
            "grid_template_rows": null,
            "height": null,
            "justify_content": null,
            "justify_items": null,
            "left": null,
            "margin": null,
            "max_height": null,
            "max_width": null,
            "min_height": null,
            "min_width": null,
            "object_fit": null,
            "object_position": null,
            "order": null,
            "overflow": null,
            "overflow_x": null,
            "overflow_y": null,
            "padding": null,
            "right": null,
            "top": null,
            "visibility": null,
            "width": null
          }
        },
        "b02625468ffa4ea983587838c606fa48": {
          "model_module": "@jupyter-widgets/controls",
          "model_name": "DescriptionStyleModel",
          "model_module_version": "1.5.0",
          "state": {
            "_model_module": "@jupyter-widgets/controls",
            "_model_module_version": "1.5.0",
            "_model_name": "DescriptionStyleModel",
            "_view_count": null,
            "_view_module": "@jupyter-widgets/base",
            "_view_module_version": "1.2.0",
            "_view_name": "StyleView",
            "description_width": ""
          }
        },
        "ed580584f20747d78b1eac8a00e2884f": {
          "model_module": "@jupyter-widgets/base",
          "model_name": "LayoutModel",
          "model_module_version": "1.2.0",
          "state": {
            "_model_module": "@jupyter-widgets/base",
            "_model_module_version": "1.2.0",
            "_model_name": "LayoutModel",
            "_view_count": null,
            "_view_module": "@jupyter-widgets/base",
            "_view_module_version": "1.2.0",
            "_view_name": "LayoutView",
            "align_content": null,
            "align_items": null,
            "align_self": null,
            "border": null,
            "bottom": null,
            "display": null,
            "flex": null,
            "flex_flow": null,
            "grid_area": null,
            "grid_auto_columns": null,
            "grid_auto_flow": null,
            "grid_auto_rows": null,
            "grid_column": null,
            "grid_gap": null,
            "grid_row": null,
            "grid_template_areas": null,
            "grid_template_columns": null,
            "grid_template_rows": null,
            "height": null,
            "justify_content": null,
            "justify_items": null,
            "left": null,
            "margin": null,
            "max_height": null,
            "max_width": null,
            "min_height": null,
            "min_width": null,
            "object_fit": null,
            "object_position": null,
            "order": null,
            "overflow": null,
            "overflow_x": null,
            "overflow_y": null,
            "padding": null,
            "right": null,
            "top": null,
            "visibility": null,
            "width": null
          }
        },
        "720e6df44b764107a5a62a15e4ce5aac": {
          "model_module": "@jupyter-widgets/controls",
          "model_name": "ProgressStyleModel",
          "model_module_version": "1.5.0",
          "state": {
            "_model_module": "@jupyter-widgets/controls",
            "_model_module_version": "1.5.0",
            "_model_name": "ProgressStyleModel",
            "_view_count": null,
            "_view_module": "@jupyter-widgets/base",
            "_view_module_version": "1.2.0",
            "_view_name": "StyleView",
            "bar_color": null,
            "description_width": ""
          }
        },
        "448125f82ae04fd0a6081662b393565a": {
          "model_module": "@jupyter-widgets/base",
          "model_name": "LayoutModel",
          "model_module_version": "1.2.0",
          "state": {
            "_model_module": "@jupyter-widgets/base",
            "_model_module_version": "1.2.0",
            "_model_name": "LayoutModel",
            "_view_count": null,
            "_view_module": "@jupyter-widgets/base",
            "_view_module_version": "1.2.0",
            "_view_name": "LayoutView",
            "align_content": null,
            "align_items": null,
            "align_self": null,
            "border": null,
            "bottom": null,
            "display": null,
            "flex": null,
            "flex_flow": null,
            "grid_area": null,
            "grid_auto_columns": null,
            "grid_auto_flow": null,
            "grid_auto_rows": null,
            "grid_column": null,
            "grid_gap": null,
            "grid_row": null,
            "grid_template_areas": null,
            "grid_template_columns": null,
            "grid_template_rows": null,
            "height": null,
            "justify_content": null,
            "justify_items": null,
            "left": null,
            "margin": null,
            "max_height": null,
            "max_width": null,
            "min_height": null,
            "min_width": null,
            "object_fit": null,
            "object_position": null,
            "order": null,
            "overflow": null,
            "overflow_x": null,
            "overflow_y": null,
            "padding": null,
            "right": null,
            "top": null,
            "visibility": null,
            "width": null
          }
        },
        "deb52e648e2d4ff3ab7a0ec0a151426f": {
          "model_module": "@jupyter-widgets/controls",
          "model_name": "DescriptionStyleModel",
          "model_module_version": "1.5.0",
          "state": {
            "_model_module": "@jupyter-widgets/controls",
            "_model_module_version": "1.5.0",
            "_model_name": "DescriptionStyleModel",
            "_view_count": null,
            "_view_module": "@jupyter-widgets/base",
            "_view_module_version": "1.2.0",
            "_view_name": "StyleView",
            "description_width": ""
          }
        },
        "ad82d06cbe874dafa9833d8c42c169f6": {
          "model_module": "@jupyter-widgets/controls",
          "model_name": "HBoxModel",
          "model_module_version": "1.5.0",
          "state": {
            "_dom_classes": [],
            "_model_module": "@jupyter-widgets/controls",
            "_model_module_version": "1.5.0",
            "_model_name": "HBoxModel",
            "_view_count": null,
            "_view_module": "@jupyter-widgets/controls",
            "_view_module_version": "1.5.0",
            "_view_name": "HBoxView",
            "box_style": "",
            "children": [
              "IPY_MODEL_31b932b16c0d4efda366ce2869722228",
              "IPY_MODEL_0252f855d3ab4a6294aa7fdfed990b9f",
              "IPY_MODEL_890ecaea9b52440db3dd5c07e5723d7b"
            ],
            "layout": "IPY_MODEL_ef77c177c4da46579b1825d50b1bfd83"
          }
        },
        "31b932b16c0d4efda366ce2869722228": {
          "model_module": "@jupyter-widgets/controls",
          "model_name": "HTMLModel",
          "model_module_version": "1.5.0",
          "state": {
            "_dom_classes": [],
            "_model_module": "@jupyter-widgets/controls",
            "_model_module_version": "1.5.0",
            "_model_name": "HTMLModel",
            "_view_count": null,
            "_view_module": "@jupyter-widgets/controls",
            "_view_module_version": "1.5.0",
            "_view_name": "HTMLView",
            "description": "",
            "description_tooltip": null,
            "layout": "IPY_MODEL_026bd2343f9649dab4a835ed3961a7da",
            "placeholder": "​",
            "style": "IPY_MODEL_9b4742561ef24917a6eb8458ed091b17",
            "value": ""
          }
        },
        "0252f855d3ab4a6294aa7fdfed990b9f": {
          "model_module": "@jupyter-widgets/controls",
          "model_name": "FloatProgressModel",
          "model_module_version": "1.5.0",
          "state": {
            "_dom_classes": [],
            "_model_module": "@jupyter-widgets/controls",
            "_model_module_version": "1.5.0",
            "_model_name": "FloatProgressModel",
            "_view_count": null,
            "_view_module": "@jupyter-widgets/controls",
            "_view_module_version": "1.5.0",
            "_view_name": "ProgressView",
            "bar_style": "success",
            "description": "",
            "description_tooltip": null,
            "layout": "IPY_MODEL_c358ad95d66440d7a57108a815f644cd",
            "max": 1648877,
            "min": 0,
            "orientation": "horizontal",
            "style": "IPY_MODEL_019f466b782c4f7ebeaab6424a5d2c3a",
            "value": 1648877
          }
        },
        "890ecaea9b52440db3dd5c07e5723d7b": {
          "model_module": "@jupyter-widgets/controls",
          "model_name": "HTMLModel",
          "model_module_version": "1.5.0",
          "state": {
            "_dom_classes": [],
            "_model_module": "@jupyter-widgets/controls",
            "_model_module_version": "1.5.0",
            "_model_name": "HTMLModel",
            "_view_count": null,
            "_view_module": "@jupyter-widgets/controls",
            "_view_module_version": "1.5.0",
            "_view_name": "HTMLView",
            "description": "",
            "description_tooltip": null,
            "layout": "IPY_MODEL_1d1533a1d56c4f719c6fe5d88216d489",
            "placeholder": "​",
            "style": "IPY_MODEL_1eba2b7d011948d6a7b74fbfed599f16",
            "value": " 1649664/? [00:00&lt;00:00, 33046572.99it/s]"
          }
        },
        "ef77c177c4da46579b1825d50b1bfd83": {
          "model_module": "@jupyter-widgets/base",
          "model_name": "LayoutModel",
          "model_module_version": "1.2.0",
          "state": {
            "_model_module": "@jupyter-widgets/base",
            "_model_module_version": "1.2.0",
            "_model_name": "LayoutModel",
            "_view_count": null,
            "_view_module": "@jupyter-widgets/base",
            "_view_module_version": "1.2.0",
            "_view_name": "LayoutView",
            "align_content": null,
            "align_items": null,
            "align_self": null,
            "border": null,
            "bottom": null,
            "display": null,
            "flex": null,
            "flex_flow": null,
            "grid_area": null,
            "grid_auto_columns": null,
            "grid_auto_flow": null,
            "grid_auto_rows": null,
            "grid_column": null,
            "grid_gap": null,
            "grid_row": null,
            "grid_template_areas": null,
            "grid_template_columns": null,
            "grid_template_rows": null,
            "height": null,
            "justify_content": null,
            "justify_items": null,
            "left": null,
            "margin": null,
            "max_height": null,
            "max_width": null,
            "min_height": null,
            "min_width": null,
            "object_fit": null,
            "object_position": null,
            "order": null,
            "overflow": null,
            "overflow_x": null,
            "overflow_y": null,
            "padding": null,
            "right": null,
            "top": null,
            "visibility": null,
            "width": null
          }
        },
        "026bd2343f9649dab4a835ed3961a7da": {
          "model_module": "@jupyter-widgets/base",
          "model_name": "LayoutModel",
          "model_module_version": "1.2.0",
          "state": {
            "_model_module": "@jupyter-widgets/base",
            "_model_module_version": "1.2.0",
            "_model_name": "LayoutModel",
            "_view_count": null,
            "_view_module": "@jupyter-widgets/base",
            "_view_module_version": "1.2.0",
            "_view_name": "LayoutView",
            "align_content": null,
            "align_items": null,
            "align_self": null,
            "border": null,
            "bottom": null,
            "display": null,
            "flex": null,
            "flex_flow": null,
            "grid_area": null,
            "grid_auto_columns": null,
            "grid_auto_flow": null,
            "grid_auto_rows": null,
            "grid_column": null,
            "grid_gap": null,
            "grid_row": null,
            "grid_template_areas": null,
            "grid_template_columns": null,
            "grid_template_rows": null,
            "height": null,
            "justify_content": null,
            "justify_items": null,
            "left": null,
            "margin": null,
            "max_height": null,
            "max_width": null,
            "min_height": null,
            "min_width": null,
            "object_fit": null,
            "object_position": null,
            "order": null,
            "overflow": null,
            "overflow_x": null,
            "overflow_y": null,
            "padding": null,
            "right": null,
            "top": null,
            "visibility": null,
            "width": null
          }
        },
        "9b4742561ef24917a6eb8458ed091b17": {
          "model_module": "@jupyter-widgets/controls",
          "model_name": "DescriptionStyleModel",
          "model_module_version": "1.5.0",
          "state": {
            "_model_module": "@jupyter-widgets/controls",
            "_model_module_version": "1.5.0",
            "_model_name": "DescriptionStyleModel",
            "_view_count": null,
            "_view_module": "@jupyter-widgets/base",
            "_view_module_version": "1.2.0",
            "_view_name": "StyleView",
            "description_width": ""
          }
        },
        "c358ad95d66440d7a57108a815f644cd": {
          "model_module": "@jupyter-widgets/base",
          "model_name": "LayoutModel",
          "model_module_version": "1.2.0",
          "state": {
            "_model_module": "@jupyter-widgets/base",
            "_model_module_version": "1.2.0",
            "_model_name": "LayoutModel",
            "_view_count": null,
            "_view_module": "@jupyter-widgets/base",
            "_view_module_version": "1.2.0",
            "_view_name": "LayoutView",
            "align_content": null,
            "align_items": null,
            "align_self": null,
            "border": null,
            "bottom": null,
            "display": null,
            "flex": null,
            "flex_flow": null,
            "grid_area": null,
            "grid_auto_columns": null,
            "grid_auto_flow": null,
            "grid_auto_rows": null,
            "grid_column": null,
            "grid_gap": null,
            "grid_row": null,
            "grid_template_areas": null,
            "grid_template_columns": null,
            "grid_template_rows": null,
            "height": null,
            "justify_content": null,
            "justify_items": null,
            "left": null,
            "margin": null,
            "max_height": null,
            "max_width": null,
            "min_height": null,
            "min_width": null,
            "object_fit": null,
            "object_position": null,
            "order": null,
            "overflow": null,
            "overflow_x": null,
            "overflow_y": null,
            "padding": null,
            "right": null,
            "top": null,
            "visibility": null,
            "width": null
          }
        },
        "019f466b782c4f7ebeaab6424a5d2c3a": {
          "model_module": "@jupyter-widgets/controls",
          "model_name": "ProgressStyleModel",
          "model_module_version": "1.5.0",
          "state": {
            "_model_module": "@jupyter-widgets/controls",
            "_model_module_version": "1.5.0",
            "_model_name": "ProgressStyleModel",
            "_view_count": null,
            "_view_module": "@jupyter-widgets/base",
            "_view_module_version": "1.2.0",
            "_view_name": "StyleView",
            "bar_color": null,
            "description_width": ""
          }
        },
        "1d1533a1d56c4f719c6fe5d88216d489": {
          "model_module": "@jupyter-widgets/base",
          "model_name": "LayoutModel",
          "model_module_version": "1.2.0",
          "state": {
            "_model_module": "@jupyter-widgets/base",
            "_model_module_version": "1.2.0",
            "_model_name": "LayoutModel",
            "_view_count": null,
            "_view_module": "@jupyter-widgets/base",
            "_view_module_version": "1.2.0",
            "_view_name": "LayoutView",
            "align_content": null,
            "align_items": null,
            "align_self": null,
            "border": null,
            "bottom": null,
            "display": null,
            "flex": null,
            "flex_flow": null,
            "grid_area": null,
            "grid_auto_columns": null,
            "grid_auto_flow": null,
            "grid_auto_rows": null,
            "grid_column": null,
            "grid_gap": null,
            "grid_row": null,
            "grid_template_areas": null,
            "grid_template_columns": null,
            "grid_template_rows": null,
            "height": null,
            "justify_content": null,
            "justify_items": null,
            "left": null,
            "margin": null,
            "max_height": null,
            "max_width": null,
            "min_height": null,
            "min_width": null,
            "object_fit": null,
            "object_position": null,
            "order": null,
            "overflow": null,
            "overflow_x": null,
            "overflow_y": null,
            "padding": null,
            "right": null,
            "top": null,
            "visibility": null,
            "width": null
          }
        },
        "1eba2b7d011948d6a7b74fbfed599f16": {
          "model_module": "@jupyter-widgets/controls",
          "model_name": "DescriptionStyleModel",
          "model_module_version": "1.5.0",
          "state": {
            "_model_module": "@jupyter-widgets/controls",
            "_model_module_version": "1.5.0",
            "_model_name": "DescriptionStyleModel",
            "_view_count": null,
            "_view_module": "@jupyter-widgets/base",
            "_view_module_version": "1.2.0",
            "_view_name": "StyleView",
            "description_width": ""
          }
        },
        "3de9412faa62409d88c210ce95e456f2": {
          "model_module": "@jupyter-widgets/controls",
          "model_name": "HBoxModel",
          "model_module_version": "1.5.0",
          "state": {
            "_dom_classes": [],
            "_model_module": "@jupyter-widgets/controls",
            "_model_module_version": "1.5.0",
            "_model_name": "HBoxModel",
            "_view_count": null,
            "_view_module": "@jupyter-widgets/controls",
            "_view_module_version": "1.5.0",
            "_view_name": "HBoxView",
            "box_style": "",
            "children": [
              "IPY_MODEL_dfa1b4622c54432b8928f57e39356e86",
              "IPY_MODEL_285bd7ea1c784a25897d053cf29628dc",
              "IPY_MODEL_adc89d49c96441b3b0e506a0065319ab"
            ],
            "layout": "IPY_MODEL_0691b30e75a647e0ae43feda461ee991"
          }
        },
        "dfa1b4622c54432b8928f57e39356e86": {
          "model_module": "@jupyter-widgets/controls",
          "model_name": "HTMLModel",
          "model_module_version": "1.5.0",
          "state": {
            "_dom_classes": [],
            "_model_module": "@jupyter-widgets/controls",
            "_model_module_version": "1.5.0",
            "_model_name": "HTMLModel",
            "_view_count": null,
            "_view_module": "@jupyter-widgets/controls",
            "_view_module_version": "1.5.0",
            "_view_name": "HTMLView",
            "description": "",
            "description_tooltip": null,
            "layout": "IPY_MODEL_f7c41e7e357f4bb4a8646df5bb743a7d",
            "placeholder": "​",
            "style": "IPY_MODEL_418a87929c134c5e8333a80267b11dab",
            "value": ""
          }
        },
        "285bd7ea1c784a25897d053cf29628dc": {
          "model_module": "@jupyter-widgets/controls",
          "model_name": "FloatProgressModel",
          "model_module_version": "1.5.0",
          "state": {
            "_dom_classes": [],
            "_model_module": "@jupyter-widgets/controls",
            "_model_module_version": "1.5.0",
            "_model_name": "FloatProgressModel",
            "_view_count": null,
            "_view_module": "@jupyter-widgets/controls",
            "_view_module_version": "1.5.0",
            "_view_name": "ProgressView",
            "bar_style": "success",
            "description": "",
            "description_tooltip": null,
            "layout": "IPY_MODEL_97b88b4469a242dc8915c9d0035daf33",
            "max": 4542,
            "min": 0,
            "orientation": "horizontal",
            "style": "IPY_MODEL_fe749cad5e1347e59966a8fecb5b4d5c",
            "value": 4542
          }
        },
        "adc89d49c96441b3b0e506a0065319ab": {
          "model_module": "@jupyter-widgets/controls",
          "model_name": "HTMLModel",
          "model_module_version": "1.5.0",
          "state": {
            "_dom_classes": [],
            "_model_module": "@jupyter-widgets/controls",
            "_model_module_version": "1.5.0",
            "_model_name": "HTMLModel",
            "_view_count": null,
            "_view_module": "@jupyter-widgets/controls",
            "_view_module_version": "1.5.0",
            "_view_name": "HTMLView",
            "description": "",
            "description_tooltip": null,
            "layout": "IPY_MODEL_ffdbdf38e63445a6a7068a5ded3b35a1",
            "placeholder": "​",
            "style": "IPY_MODEL_6a7c50be44404bd8a536ba4e732548e5",
            "value": " 5120/? [00:00&lt;00:00, 119081.04it/s]"
          }
        },
        "0691b30e75a647e0ae43feda461ee991": {
          "model_module": "@jupyter-widgets/base",
          "model_name": "LayoutModel",
          "model_module_version": "1.2.0",
          "state": {
            "_model_module": "@jupyter-widgets/base",
            "_model_module_version": "1.2.0",
            "_model_name": "LayoutModel",
            "_view_count": null,
            "_view_module": "@jupyter-widgets/base",
            "_view_module_version": "1.2.0",
            "_view_name": "LayoutView",
            "align_content": null,
            "align_items": null,
            "align_self": null,
            "border": null,
            "bottom": null,
            "display": null,
            "flex": null,
            "flex_flow": null,
            "grid_area": null,
            "grid_auto_columns": null,
            "grid_auto_flow": null,
            "grid_auto_rows": null,
            "grid_column": null,
            "grid_gap": null,
            "grid_row": null,
            "grid_template_areas": null,
            "grid_template_columns": null,
            "grid_template_rows": null,
            "height": null,
            "justify_content": null,
            "justify_items": null,
            "left": null,
            "margin": null,
            "max_height": null,
            "max_width": null,
            "min_height": null,
            "min_width": null,
            "object_fit": null,
            "object_position": null,
            "order": null,
            "overflow": null,
            "overflow_x": null,
            "overflow_y": null,
            "padding": null,
            "right": null,
            "top": null,
            "visibility": null,
            "width": null
          }
        },
        "f7c41e7e357f4bb4a8646df5bb743a7d": {
          "model_module": "@jupyter-widgets/base",
          "model_name": "LayoutModel",
          "model_module_version": "1.2.0",
          "state": {
            "_model_module": "@jupyter-widgets/base",
            "_model_module_version": "1.2.0",
            "_model_name": "LayoutModel",
            "_view_count": null,
            "_view_module": "@jupyter-widgets/base",
            "_view_module_version": "1.2.0",
            "_view_name": "LayoutView",
            "align_content": null,
            "align_items": null,
            "align_self": null,
            "border": null,
            "bottom": null,
            "display": null,
            "flex": null,
            "flex_flow": null,
            "grid_area": null,
            "grid_auto_columns": null,
            "grid_auto_flow": null,
            "grid_auto_rows": null,
            "grid_column": null,
            "grid_gap": null,
            "grid_row": null,
            "grid_template_areas": null,
            "grid_template_columns": null,
            "grid_template_rows": null,
            "height": null,
            "justify_content": null,
            "justify_items": null,
            "left": null,
            "margin": null,
            "max_height": null,
            "max_width": null,
            "min_height": null,
            "min_width": null,
            "object_fit": null,
            "object_position": null,
            "order": null,
            "overflow": null,
            "overflow_x": null,
            "overflow_y": null,
            "padding": null,
            "right": null,
            "top": null,
            "visibility": null,
            "width": null
          }
        },
        "418a87929c134c5e8333a80267b11dab": {
          "model_module": "@jupyter-widgets/controls",
          "model_name": "DescriptionStyleModel",
          "model_module_version": "1.5.0",
          "state": {
            "_model_module": "@jupyter-widgets/controls",
            "_model_module_version": "1.5.0",
            "_model_name": "DescriptionStyleModel",
            "_view_count": null,
            "_view_module": "@jupyter-widgets/base",
            "_view_module_version": "1.2.0",
            "_view_name": "StyleView",
            "description_width": ""
          }
        },
        "97b88b4469a242dc8915c9d0035daf33": {
          "model_module": "@jupyter-widgets/base",
          "model_name": "LayoutModel",
          "model_module_version": "1.2.0",
          "state": {
            "_model_module": "@jupyter-widgets/base",
            "_model_module_version": "1.2.0",
            "_model_name": "LayoutModel",
            "_view_count": null,
            "_view_module": "@jupyter-widgets/base",
            "_view_module_version": "1.2.0",
            "_view_name": "LayoutView",
            "align_content": null,
            "align_items": null,
            "align_self": null,
            "border": null,
            "bottom": null,
            "display": null,
            "flex": null,
            "flex_flow": null,
            "grid_area": null,
            "grid_auto_columns": null,
            "grid_auto_flow": null,
            "grid_auto_rows": null,
            "grid_column": null,
            "grid_gap": null,
            "grid_row": null,
            "grid_template_areas": null,
            "grid_template_columns": null,
            "grid_template_rows": null,
            "height": null,
            "justify_content": null,
            "justify_items": null,
            "left": null,
            "margin": null,
            "max_height": null,
            "max_width": null,
            "min_height": null,
            "min_width": null,
            "object_fit": null,
            "object_position": null,
            "order": null,
            "overflow": null,
            "overflow_x": null,
            "overflow_y": null,
            "padding": null,
            "right": null,
            "top": null,
            "visibility": null,
            "width": null
          }
        },
        "fe749cad5e1347e59966a8fecb5b4d5c": {
          "model_module": "@jupyter-widgets/controls",
          "model_name": "ProgressStyleModel",
          "model_module_version": "1.5.0",
          "state": {
            "_model_module": "@jupyter-widgets/controls",
            "_model_module_version": "1.5.0",
            "_model_name": "ProgressStyleModel",
            "_view_count": null,
            "_view_module": "@jupyter-widgets/base",
            "_view_module_version": "1.2.0",
            "_view_name": "StyleView",
            "bar_color": null,
            "description_width": ""
          }
        },
        "ffdbdf38e63445a6a7068a5ded3b35a1": {
          "model_module": "@jupyter-widgets/base",
          "model_name": "LayoutModel",
          "model_module_version": "1.2.0",
          "state": {
            "_model_module": "@jupyter-widgets/base",
            "_model_module_version": "1.2.0",
            "_model_name": "LayoutModel",
            "_view_count": null,
            "_view_module": "@jupyter-widgets/base",
            "_view_module_version": "1.2.0",
            "_view_name": "LayoutView",
            "align_content": null,
            "align_items": null,
            "align_self": null,
            "border": null,
            "bottom": null,
            "display": null,
            "flex": null,
            "flex_flow": null,
            "grid_area": null,
            "grid_auto_columns": null,
            "grid_auto_flow": null,
            "grid_auto_rows": null,
            "grid_column": null,
            "grid_gap": null,
            "grid_row": null,
            "grid_template_areas": null,
            "grid_template_columns": null,
            "grid_template_rows": null,
            "height": null,
            "justify_content": null,
            "justify_items": null,
            "left": null,
            "margin": null,
            "max_height": null,
            "max_width": null,
            "min_height": null,
            "min_width": null,
            "object_fit": null,
            "object_position": null,
            "order": null,
            "overflow": null,
            "overflow_x": null,
            "overflow_y": null,
            "padding": null,
            "right": null,
            "top": null,
            "visibility": null,
            "width": null
          }
        },
        "6a7c50be44404bd8a536ba4e732548e5": {
          "model_module": "@jupyter-widgets/controls",
          "model_name": "DescriptionStyleModel",
          "model_module_version": "1.5.0",
          "state": {
            "_model_module": "@jupyter-widgets/controls",
            "_model_module_version": "1.5.0",
            "_model_name": "DescriptionStyleModel",
            "_view_count": null,
            "_view_module": "@jupyter-widgets/base",
            "_view_module_version": "1.2.0",
            "_view_name": "StyleView",
            "description_width": ""
          }
        }
      }
    }
  },
  "cells": [
    {
      "cell_type": "markdown",
      "source": [
        "# Simple Convolutional Neural Network Layers using MNIST dataset"
      ],
      "metadata": {
        "id": "qIzXwOcqgXy8"
      }
    },
    {
      "cell_type": "code",
      "execution_count": 3,
      "metadata": {
        "id": "Km9xlLWVgHcn"
      },
      "outputs": [],
      "source": [
        "# imports\n",
        "# create a convolutional neural network\n",
        "# set device\n",
        "# Hyperparameters\n",
        "# Initialize network\n",
        "# Loss and optimizer\n",
        "# Train Network\n",
        "# Check accuracy on a test set to see how good our model is"
      ]
    },
    {
      "cell_type": "code",
      "source": [
        "# let's create a convolutional neural networks\n",
        "import torch\n",
        "class ConvNet(torch.nn.Module):\n",
        "  def __init__(self , input_channels , hidden_size ,number_classes):\n",
        "    super(ConvNet , self).__init__()\n",
        "    # conv == > ReLU ==> Pooling \n",
        "    self.conv1 = torch.nn.Conv2d(in_channels = input_channels , out_channels = 10 , kernel_size = (3 , 3) , stride = (1 , 1) , padding = (1 , 1))\n",
        "    self.activation1 = torch.nn.ReLU()\n",
        "    self.pool1 = torch.nn.MaxPool2d(kernel_size = (2,2) , stride = (2 , 2))\n",
        "\n",
        "\n",
        "    # flatten it out \n",
        "    self.linear1 = torch.nn.Linear(in_features = 10*14*14 , out_features = hidden_size)\n",
        "    self.activation3 = torch.nn.ReLU()\n",
        "    self.linear2 = torch.nn.Linear(in_features= hidden_size , out_features =number_classes)\n",
        "    self.activation4 = torch.nn.Softmax(dim = 1)\n",
        "\n",
        "  def forward(self , x):\n",
        "    x = self.pool1(self.activation1(self.conv1(x)))\n",
        "    x = x.view(x.size(0) , -1)\n",
        "    x = self.activation3(self.linear1(x))\n",
        "    outs = self.activation4(self.linear2(x))\n",
        "    return outs"
      ],
      "metadata": {
        "id": "rEKOi0WfgtX0"
      },
      "execution_count": 4,
      "outputs": []
    },
    {
      "cell_type": "code",
      "source": [
        "# let's create a fake dataset for now\n",
        "input_channels = 1\n",
        "number_classes = 10\n",
        "hidden_size = 20\n",
        "convolution = ConvNet(input_channels , hidden_size , number_classes)\n",
        "# let's create a fake dataset\n",
        "x = torch.rand(64 , 1 , 28 , 28)\n",
        "print(convolution(x).shape)"
      ],
      "metadata": {
        "colab": {
          "base_uri": "https://localhost:8080/"
        },
        "id": "3eAAMu9g4Uru",
        "outputId": "a3ccdb2d-5530-41e6-8759-995bf062f321"
      },
      "execution_count": 5,
      "outputs": [
        {
          "output_type": "stream",
          "name": "stdout",
          "text": [
            "torch.Size([64, 10])\n"
          ]
        }
      ]
    },
    {
      "cell_type": "code",
      "source": [
        "# creating a dataset\n",
        "import torchvision\n",
        "from torchvision.transforms import transforms\n",
        "data_train = torchvision.datasets.MNIST(root = './data' , train = True , download = True , transform = transforms.ToTensor())\n",
        "data_test = torchvision.datasets.MNIST(root = './data' , train = False , download = False , transform = transforms.ToTensor())"
      ],
      "metadata": {
        "colab": {
          "base_uri": "https://localhost:8080/",
          "height": 405,
          "referenced_widgets": [
            "ffed15233b904d6e995dcce04d520fbf",
            "47ac0daddff84b81ba891c1ef8c8b146",
            "9a4cf27492df43cdadba02347af723f4",
            "877d02cf28504777ad974f1edb9b5188",
            "6b063f372b3645ad973dfc5dddbf4333",
            "34a2861e8a76467a894c8b7cdcc8b793",
            "ff2531fa93f74b4a9bc6e6875a65d22c",
            "c4cc13f2976b43f08423b24a7cf373b1",
            "f1191cd3d3834fda8774c591a01e77fd",
            "a4900fe73f094877b7f9f74477f4fc52",
            "480cd9d319e34900ac37fb605296c2df",
            "9451ca7e2fa14acda186e3e5c475eb44",
            "dcc17f7be68d41ea9302a9e1e298c96c",
            "ad927a05ebee404090b8102538f042f2",
            "72b17b5c6c2545ccb00d333d9c8f4149",
            "a2b49d628e274f00b4ea38e5524ebe0c",
            "fda01eba2734423f83669566d38e07cc",
            "b02625468ffa4ea983587838c606fa48",
            "ed580584f20747d78b1eac8a00e2884f",
            "720e6df44b764107a5a62a15e4ce5aac",
            "448125f82ae04fd0a6081662b393565a",
            "deb52e648e2d4ff3ab7a0ec0a151426f",
            "ad82d06cbe874dafa9833d8c42c169f6",
            "31b932b16c0d4efda366ce2869722228",
            "0252f855d3ab4a6294aa7fdfed990b9f",
            "890ecaea9b52440db3dd5c07e5723d7b",
            "ef77c177c4da46579b1825d50b1bfd83",
            "026bd2343f9649dab4a835ed3961a7da",
            "9b4742561ef24917a6eb8458ed091b17",
            "c358ad95d66440d7a57108a815f644cd",
            "019f466b782c4f7ebeaab6424a5d2c3a",
            "1d1533a1d56c4f719c6fe5d88216d489",
            "1eba2b7d011948d6a7b74fbfed599f16",
            "3de9412faa62409d88c210ce95e456f2",
            "dfa1b4622c54432b8928f57e39356e86",
            "285bd7ea1c784a25897d053cf29628dc",
            "adc89d49c96441b3b0e506a0065319ab",
            "0691b30e75a647e0ae43feda461ee991",
            "f7c41e7e357f4bb4a8646df5bb743a7d",
            "418a87929c134c5e8333a80267b11dab",
            "97b88b4469a242dc8915c9d0035daf33",
            "fe749cad5e1347e59966a8fecb5b4d5c",
            "ffdbdf38e63445a6a7068a5ded3b35a1",
            "6a7c50be44404bd8a536ba4e732548e5"
          ]
        },
        "id": "5_26xf3g49Jw",
        "outputId": "8b148867-1d19-4380-b4d7-5e36287a7af7"
      },
      "execution_count": 6,
      "outputs": [
        {
          "output_type": "stream",
          "name": "stdout",
          "text": [
            "Downloading http://yann.lecun.com/exdb/mnist/train-images-idx3-ubyte.gz\n",
            "Downloading http://yann.lecun.com/exdb/mnist/train-images-idx3-ubyte.gz to ./data/MNIST/raw/train-images-idx3-ubyte.gz\n"
          ]
        },
        {
          "output_type": "display_data",
          "data": {
            "text/plain": [
              "  0%|          | 0/9912422 [00:00<?, ?it/s]"
            ],
            "application/vnd.jupyter.widget-view+json": {
              "version_major": 2,
              "version_minor": 0,
              "model_id": "ffed15233b904d6e995dcce04d520fbf"
            }
          },
          "metadata": {}
        },
        {
          "output_type": "stream",
          "name": "stdout",
          "text": [
            "Extracting ./data/MNIST/raw/train-images-idx3-ubyte.gz to ./data/MNIST/raw\n",
            "\n",
            "Downloading http://yann.lecun.com/exdb/mnist/train-labels-idx1-ubyte.gz\n",
            "Downloading http://yann.lecun.com/exdb/mnist/train-labels-idx1-ubyte.gz to ./data/MNIST/raw/train-labels-idx1-ubyte.gz\n"
          ]
        },
        {
          "output_type": "display_data",
          "data": {
            "text/plain": [
              "  0%|          | 0/28881 [00:00<?, ?it/s]"
            ],
            "application/vnd.jupyter.widget-view+json": {
              "version_major": 2,
              "version_minor": 0,
              "model_id": "9451ca7e2fa14acda186e3e5c475eb44"
            }
          },
          "metadata": {}
        },
        {
          "output_type": "stream",
          "name": "stdout",
          "text": [
            "Extracting ./data/MNIST/raw/train-labels-idx1-ubyte.gz to ./data/MNIST/raw\n",
            "\n",
            "Downloading http://yann.lecun.com/exdb/mnist/t10k-images-idx3-ubyte.gz\n",
            "Downloading http://yann.lecun.com/exdb/mnist/t10k-images-idx3-ubyte.gz to ./data/MNIST/raw/t10k-images-idx3-ubyte.gz\n"
          ]
        },
        {
          "output_type": "display_data",
          "data": {
            "text/plain": [
              "  0%|          | 0/1648877 [00:00<?, ?it/s]"
            ],
            "application/vnd.jupyter.widget-view+json": {
              "version_major": 2,
              "version_minor": 0,
              "model_id": "ad82d06cbe874dafa9833d8c42c169f6"
            }
          },
          "metadata": {}
        },
        {
          "output_type": "stream",
          "name": "stdout",
          "text": [
            "Extracting ./data/MNIST/raw/t10k-images-idx3-ubyte.gz to ./data/MNIST/raw\n",
            "\n",
            "Downloading http://yann.lecun.com/exdb/mnist/t10k-labels-idx1-ubyte.gz\n",
            "Downloading http://yann.lecun.com/exdb/mnist/t10k-labels-idx1-ubyte.gz to ./data/MNIST/raw/t10k-labels-idx1-ubyte.gz\n"
          ]
        },
        {
          "output_type": "display_data",
          "data": {
            "text/plain": [
              "  0%|          | 0/4542 [00:00<?, ?it/s]"
            ],
            "application/vnd.jupyter.widget-view+json": {
              "version_major": 2,
              "version_minor": 0,
              "model_id": "3de9412faa62409d88c210ce95e456f2"
            }
          },
          "metadata": {}
        },
        {
          "output_type": "stream",
          "name": "stdout",
          "text": [
            "Extracting ./data/MNIST/raw/t10k-labels-idx1-ubyte.gz to ./data/MNIST/raw\n",
            "\n"
          ]
        }
      ]
    },
    {
      "cell_type": "code",
      "source": [
        "# loading the data\n",
        "batch_size =  64\n",
        "train_load = torch.utils.data.DataLoader(data_train , batch_size = batch_size , shuffle = True , num_workers = 0 , pin_memory = True)\n",
        "test_load = torch.utils.data.DataLoader(data_test , batch_size = batch_size , shuffle = True , num_workers = True , pin_memory = True)"
      ],
      "metadata": {
        "id": "N050P4RX6yY-"
      },
      "execution_count": 7,
      "outputs": []
    },
    {
      "cell_type": "code",
      "source": [
        "# get default device\n",
        "def get_default_device():\n",
        "  if torch.cuda.is_available():\n",
        "    return torch.device(\"cuda\")\n",
        "  else:\n",
        "    return torch.device('cpu')\n",
        "\n",
        "my_device = get_default_device()\n",
        "print(my_device)"
      ],
      "metadata": {
        "colab": {
          "base_uri": "https://localhost:8080/"
        },
        "id": "R0eVuXVo8FeJ",
        "outputId": "32c78707-035b-40b7-d3ea-07838227b78c"
      },
      "execution_count": 9,
      "outputs": [
        {
          "output_type": "stream",
          "name": "stdout",
          "text": [
            "cuda\n"
          ]
        }
      ]
    },
    {
      "cell_type": "code",
      "source": [
        "def to_device(data , device):\n",
        "  return data.to(device)"
      ],
      "metadata": {
        "id": "UUapd7n18wMl"
      },
      "execution_count": 10,
      "outputs": []
    },
    {
      "cell_type": "code",
      "source": [
        "# initialize the network\n",
        "input_channels = 1\n",
        "hidden_size = 20\n",
        "number_of_classes = 10\n",
        "model = ConvNet(input_channels = input_channels , hidden_size = hidden_size , number_classes = number_of_classes)\n",
        "model = to_device(model , my_device)"
      ],
      "metadata": {
        "id": "6KKWObV1_JaV"
      },
      "execution_count": 11,
      "outputs": []
    },
    {
      "cell_type": "code",
      "source": [
        "# define the loss and the optimizer\n",
        "learning_rate = 0.01\n",
        "crossentropyloss = torch.nn.CrossEntropyLoss()\n",
        "optim = torch.optim.Adam(model.parameters() ,lr = learning_rate)"
      ],
      "metadata": {
        "id": "5pfmi_2LAUl4"
      },
      "execution_count": 12,
      "outputs": []
    },
    {
      "cell_type": "code",
      "source": [
        "# let's train it with epochs\n",
        "num_epochs = 1\n",
        "num_correct = 0\n",
        "total_samples = 0\n",
        "for epoch in range(num_epochs):\n",
        "  for inputs , targets in train_load:\n",
        "    # moving the batches to the GPU\n",
        "    inputs = to_device(inputs , my_device)\n",
        "    targets = to_device(targets , my_device)\n",
        "    prediction = model(inputs)\n",
        "    # loss function\n",
        "    loss = crossentropyloss(prediction , targets)\n",
        "    # derivative of the gradient\n",
        "    loss.backward()\n",
        "    # updating the weights\n",
        "    optim.step()\n",
        "    # resetting the gradients\n",
        "    optim.zero_grad()\n",
        "\n",
        "    _ , scores= prediction.max(1)\n",
        "    num_correct += (scores == targets).sum().item()\n",
        "    total_samples += targets.size(0)\n",
        "\n",
        "acc = (num_correct / total_samples)*100\n",
        "print(\"The number of correct predicitons are :\" , num_correct)\n",
        "print(\"The total number of samples are : \", total_samples)\n",
        "print(\"The accuracy of our model in one epochs is :\" , acc)"
      ],
      "metadata": {
        "colab": {
          "base_uri": "https://localhost:8080/"
        },
        "id": "4HjglS2EAszb",
        "outputId": "e79a08fd-0b44-4441-c654-3301295740bc"
      },
      "execution_count": 13,
      "outputs": [
        {
          "output_type": "stream",
          "name": "stdout",
          "text": [
            "The number of correct predicitons are : 49977\n",
            "The total number of samples are :  60000\n",
            "The accuracy of our model in one epochs is : 83.295\n"
          ]
        }
      ]
    },
    {
      "cell_type": "code",
      "source": [
        "# Model Evaluation"
      ],
      "metadata": {
        "id": "AJHYrxImDEey"
      },
      "execution_count": 18,
      "outputs": []
    },
    {
      "cell_type": "markdown",
      "source": [
        "Once the model is fit , it can be evaluated on the test dataset. This can be achieved by using the DataLoader for the test set , then computing the predictions to the expected values of the test set and calculating the performance metric. "
      ],
      "metadata": {
        "id": "-u0BAinKDJtF"
      }
    },
    {
      "cell_type": "code",
      "source": [
        "# Model predictions"
      ],
      "metadata": {
        "id": "ByxwKotbEPoj"
      },
      "execution_count": 19,
      "outputs": []
    },
    {
      "cell_type": "markdown",
      "source": [
        "A fit model can be used to make a predictions on a new data. Forexample:- we might have a single image or a single row of data and want to make a prediction. "
      ],
      "metadata": {
        "id": "dimVX2oXEPId"
      }
    },
    {
      "cell_type": "code",
      "source": [
        "# Let's evaluate our model by one epoch\n",
        "num_correct = 0\n",
        "num_samples = 0\n",
        "model.eval()\n",
        "\n",
        "for inputs , targets in test_load:\n",
        "  inputs = to_device(inputs , my_device)\n",
        "  targets = to_device(targets , my_device)\n",
        "  \n",
        "  scores = model(inputs)\n",
        "  _ , predictions = scores.max(dim = 1)\n",
        "  num_correct += (predictions ==targets).sum().item()\n",
        "  num_samples += targets.size(0)\n",
        "acc = ( num_correct / num_samples) * 100\n",
        "print(\"The number of correct predictions on the test are :\" , num_correct)\n",
        "print(\"The number of samples on the test set are :\" , num_samples)\n",
        "print(\"The accuracy of our model on a test set are :\" , acc )"
      ],
      "metadata": {
        "colab": {
          "base_uri": "https://localhost:8080/"
        },
        "id": "1bTe2eCnEaAo",
        "outputId": "b6cd8d91-a5cf-4bec-ed6f-b1bc9439c44e"
      },
      "execution_count": 16,
      "outputs": [
        {
          "output_type": "stream",
          "name": "stdout",
          "text": [
            "The number of correct predictions on the test are : 8633\n",
            "The number of samples on the test set are : 10000\n",
            "The accuracy of our model on a test set are : 86.33\n"
          ]
        }
      ]
    },
    {
      "cell_type": "markdown",
      "source": [
        "There are certain layer that behave differently in training and evaluation modes , such as the dropout and batch normalize layers. \n",
        "\n",
        "`Dropout Layer ` :- The dropout layer use for regualarization with argument 'p' that denotes the drop probability , which is used to determine the probability of dropping the units during trainnig. \n",
        "\n",
        "* One important point to remember is that units may drop randomly during training only , for the evaluation or inference phase , all the hidden units must be active. To ensure that the overall activations are on the same scale during training and predictions , the activations of the active neurons have to be scaled approppriately. \n",
        "\n",
        "* When calling this layer , it's behaviour can be controlled via model.train() and model.eval() to specify whether this call will be made during training and during inference. when using dropout , alternating between these two modes is crucial to ensure that it behaves correctly , for instance , nodes are only randomly dropped during training not evaluation or inference. \n",
        "\n",
        "`Batch Normalization Layer ` :- The PyTorch API provides a class , nn.BatchNorm2d() that we can use a layer when defining our models , note that the behaviour of updating the learnable parameters depends on the wheather the model is training model or not. These parameters are learned only during training are then used for normalization during evaluation. because normalization used also for evaluation.\n",
        "\n",
        "* Note that using the designated setting for training model.train() and evaluation model.eval() will automatically set the mode for the dropout layer and batch normalization layers and rescale appropriately so that we do not have to worry about that at all. "
      ],
      "metadata": {
        "id": "km2SIukSJqO5"
      }
    },
    {
      "cell_type": "markdown",
      "source": [
        "`with torch.no_grad()` The validation loop looks very similar to training but is somewhat simplified. The key difference is that the validation is read only , specifically the loss value returned is not used (No gradient on those loss functions for gradient purpose) and the weights are not updated. "
      ],
      "metadata": {
        "id": "23fFQLBEM6tq"
      }
    },
    {
      "cell_type": "code",
      "source": [
        "# let's train the model with multiple epochs\n",
        "num_epochs = 100\n",
        "num_correct = 0\n",
        "num_samples = 0\n",
        "for epochs in range(num_epochs):\n",
        "  for inputs , targets in train_load:\n",
        "    inputs = to_device(inputs , my_device)\n",
        "    targets = to_device(targets , my_device)\n",
        "    predictions = model(inputs)\n",
        "    # calculate the loss\n",
        "    loss = crossentropyloss(predictions , targets)\n",
        "    # calculate the gradient\n",
        "    loss.backward()\n",
        "    # update the weights\n",
        "    optim.step()\n",
        "    # resetting the gradients\n",
        "    optim.zero_grad()\n",
        "\n",
        "    _ , scores = predictions.max(dim = 1)\n",
        "    num_correct += (scores == targets ).sum().item()\n",
        "    num_samples += targets.size(0)\n",
        "    acc = (num_correct / num_samples)*100\n",
        "\n",
        "\n",
        "  if(epochs+1)%10==0:\n",
        "    print(\"Epoch [{}/{}], loss:{:.4f} , acc:{:.4f}\" .format(epochs+1 , num_epochs , loss.item() , acc))\n"
      ],
      "metadata": {
        "colab": {
          "base_uri": "https://localhost:8080/"
        },
        "id": "fMhsJBbUHg-J",
        "outputId": "98edc46d-c24d-45bf-b1ec-a1443a5b0db9"
      },
      "execution_count": 17,
      "outputs": [
        {
          "output_type": "stream",
          "name": "stdout",
          "text": [
            "Epoch [10/100], loss:1.4612 , acc:96.4457\n",
            "Epoch [20/100], loss:1.4612 , acc:96.6442\n",
            "Epoch [30/100], loss:1.4612 , acc:96.7147\n",
            "Epoch [40/100], loss:1.4924 , acc:96.7198\n",
            "Epoch [50/100], loss:1.5862 , acc:96.6809\n",
            "Epoch [60/100], loss:1.4924 , acc:96.6364\n",
            "Epoch [70/100], loss:1.4612 , acc:96.6370\n",
            "Epoch [80/100], loss:1.5549 , acc:96.6381\n",
            "Epoch [90/100], loss:1.4612 , acc:96.6428\n",
            "Epoch [100/100], loss:1.4924 , acc:96.6142\n"
          ]
        }
      ]
    },
    {
      "cell_type": "code",
      "source": [
        "# Check the accuracy on the test set \n",
        "def check_accuracy(loader , model):\n",
        "  num_correct = 0\n",
        "  num_samples = 0\n",
        "  model.eval()\n",
        "\n",
        "  with torch.no_grad():\n",
        "    for inputs , labels in loader:\n",
        "      inputs = to_device(inputs , my_device)\n",
        "      labels = to_device(labels , my_device)\n",
        "      scores = model(inputs)\n",
        "      _ , predictions = scores.max(1)\n",
        "      num_correct += (predictions == labels).sum().item()\n",
        "      num_samples += labels.size(0)\n",
        "  \n",
        "  print(\"The accuracy of this model on the test is \")\n",
        "  acc = (num_correct / num_samples)*100\n",
        "  return acc\n",
        "\n",
        "test_accuracy = check_accuracy(test_load, model = model)\n",
        "print(\"our test accuracy is :\" , test_accuracy)"
      ],
      "metadata": {
        "colab": {
          "base_uri": "https://localhost:8080/"
        },
        "id": "C70AMH_IUfLW",
        "outputId": "60c0fdd3-fe90-426e-d232-5cb785877bd1"
      },
      "execution_count": 24,
      "outputs": [
        {
          "output_type": "stream",
          "name": "stdout",
          "text": [
            "The accuracy of this model on the test is \n",
            "our test accuracy is : 96.31\n"
          ]
        }
      ]
    },
    {
      "cell_type": "code",
      "source": [
        ""
      ],
      "metadata": {
        "id": "G8MMoGeNBd-4"
      },
      "execution_count": null,
      "outputs": []
    }
  ]
}